{
 "cells": [
  {
   "cell_type": "markdown",
   "metadata": {},
   "source": [
    "# **Raphael Oko Okai**"
   ]
  },
  {
   "cell_type": "markdown",
   "metadata": {},
   "source": [
    "#  Project\n",
    "### Problem Statement\n",
    "\n",
    "In the year 2013, a supermarket decided to draw insight from their data in order to make data driven decisions.\n",
    "As a Data Analyst,you are presented with their 2013 daily sales records (sales_data.csv) and tasked to help them find answers to the questions below by analysing the data.\n",
    "\n",
    "1. i. What is the average sales and profit per market? \n",
    "\n",
    "   ii.Plot a stacked bar chart showing the sales and profit per market.\n",
    "   \n",
    "   iii.Which market brings more sales on the average?\n",
    "\n",
    "2. i. What are the best 10 performing products with regards to sales in 2013?\n",
    "\n",
    "   ii.What are the least 10 performing products with regards to sales 2013?\n",
    "\n",
    "\n",
    "3. i. Extract the days and months from the Order Date and add them to the data frame with the name \"Days\" and \"Months\" respectively?\n",
    "\n",
    "   ii.Show the trend of profit from January to December with a line plot.\n",
    "\n",
    "   iii. Which month does the company make more profit and what 5 products are sold most in that month?\n",
    "   iv.  which day does the company make high sales on the average?\n",
    "\n",
    "4. i. By analyzing the data, what is the correlation between sales and discount?\n",
    "\n",
    "   ii. Use a scatter plot to show the relationship between sales and profit.\n",
    "\n",
    "5. i. Plot a grouped bar chart showing the total profit for the different product category for each market.\n",
    "   ii. From your graph, which product category performs well in each market?\n",
    "   \n",
    "6. i. Which customer spent the most in the whole year?\n",
    "   ii. What product does the customer in (i) buy the most?\n",
    "   iii. Which month did the customer spent the most?\n",
    "   iv. How much did this customer spend in the whole year?\n",
    "   \n",
    "7. Can you do any other analysis to draw more insight? Feel free to do it.\n",
    "\n",
    "\n",
    "**Thank you**\n",
    "\n",
    "**GOOD LUCK!**\n",
    "\n",
    "\n",
    "\n"
   ]
  },
  {
   "cell_type": "code",
   "execution_count": null,
   "metadata": {},
   "outputs": [],
   "source": [
    "# Use markdowns to write your answers or findings where necessary.\n",
    "# Use comments to exlain you codes where necessary \n",
    "# Remember to import the necessary packages"
   ]
  },
  {
   "cell_type": "markdown",
   "metadata": {},
   "source": [
    "### **NB**: To easily load the data, it's advisable you have the data and the notebook file  in the same folder"
   ]
  },
  {
   "cell_type": "code",
   "execution_count": 1,
   "metadata": {},
   "outputs": [],
   "source": [
    "#import your packages here\n",
    "\n",
    "import pandas as pd\n",
    "import numpy as np\n",
    "import matplotlib.pyplot as plt\n",
    "from scipy.stats import pearsonr"
   ]
  },
  {
   "cell_type": "code",
   "execution_count": 2,
   "metadata": {},
   "outputs": [
    {
     "data": {
      "text/html": [
       "<div>\n",
       "<style scoped>\n",
       "    .dataframe tbody tr th:only-of-type {\n",
       "        vertical-align: middle;\n",
       "    }\n",
       "\n",
       "    .dataframe tbody tr th {\n",
       "        vertical-align: top;\n",
       "    }\n",
       "\n",
       "    .dataframe thead th {\n",
       "        text-align: right;\n",
       "    }\n",
       "</style>\n",
       "<table border=\"1\" class=\"dataframe\">\n",
       "  <thead>\n",
       "    <tr style=\"text-align: right;\">\n",
       "      <th></th>\n",
       "      <th>Unnamed: 0</th>\n",
       "      <th>Order Date</th>\n",
       "      <th>Order ID</th>\n",
       "      <th>Customer ID</th>\n",
       "      <th>Customer Name</th>\n",
       "      <th>Segment</th>\n",
       "      <th>City</th>\n",
       "      <th>Market</th>\n",
       "      <th>Region</th>\n",
       "      <th>Category</th>\n",
       "      <th>Sub-Category</th>\n",
       "      <th>Product Name</th>\n",
       "      <th>Sales</th>\n",
       "      <th>Quantity</th>\n",
       "      <th>Discount</th>\n",
       "      <th>Profit</th>\n",
       "    </tr>\n",
       "  </thead>\n",
       "  <tbody>\n",
       "    <tr>\n",
       "      <th>0</th>\n",
       "      <td>0</td>\n",
       "      <td>2013-01-01</td>\n",
       "      <td>ID-2013-37383</td>\n",
       "      <td>MY-18295</td>\n",
       "      <td>Muhammed Yedwab</td>\n",
       "      <td>Corporate</td>\n",
       "      <td>Albury</td>\n",
       "      <td>APAC</td>\n",
       "      <td>Oceania</td>\n",
       "      <td>Technology</td>\n",
       "      <td>Copiers</td>\n",
       "      <td>Canon Copy Machine, Digital</td>\n",
       "      <td>1649.214</td>\n",
       "      <td>7</td>\n",
       "      <td>0.1</td>\n",
       "      <td>36.624</td>\n",
       "    </tr>\n",
       "    <tr>\n",
       "      <th>1</th>\n",
       "      <td>1</td>\n",
       "      <td>2013-01-01</td>\n",
       "      <td>IN-2013-47960</td>\n",
       "      <td>JE-15715</td>\n",
       "      <td>Joe Elijah</td>\n",
       "      <td>Consumer</td>\n",
       "      <td>Tianjin</td>\n",
       "      <td>APAC</td>\n",
       "      <td>North Asia</td>\n",
       "      <td>Furniture</td>\n",
       "      <td>Bookcases</td>\n",
       "      <td>Sauder Floating Shelf Set, Metal</td>\n",
       "      <td>1358.280</td>\n",
       "      <td>7</td>\n",
       "      <td>0.0</td>\n",
       "      <td>203.700</td>\n",
       "    </tr>\n",
       "    <tr>\n",
       "      <th>2</th>\n",
       "      <td>2</td>\n",
       "      <td>2013-01-01</td>\n",
       "      <td>ID-2013-37383</td>\n",
       "      <td>MY-18295</td>\n",
       "      <td>Muhammed Yedwab</td>\n",
       "      <td>Corporate</td>\n",
       "      <td>Albury</td>\n",
       "      <td>APAC</td>\n",
       "      <td>Oceania</td>\n",
       "      <td>Technology</td>\n",
       "      <td>Accessories</td>\n",
       "      <td>Logitech Memory Card, Erganomic</td>\n",
       "      <td>728.568</td>\n",
       "      <td>8</td>\n",
       "      <td>0.1</td>\n",
       "      <td>-32.472</td>\n",
       "    </tr>\n",
       "    <tr>\n",
       "      <th>3</th>\n",
       "      <td>3</td>\n",
       "      <td>2013-01-01</td>\n",
       "      <td>IN-2013-47960</td>\n",
       "      <td>JE-15715</td>\n",
       "      <td>Joe Elijah</td>\n",
       "      <td>Consumer</td>\n",
       "      <td>Tianjin</td>\n",
       "      <td>APAC</td>\n",
       "      <td>North Asia</td>\n",
       "      <td>Furniture</td>\n",
       "      <td>Bookcases</td>\n",
       "      <td>Dania Library with Doors, Mobile</td>\n",
       "      <td>2189.520</td>\n",
       "      <td>6</td>\n",
       "      <td>0.0</td>\n",
       "      <td>372.060</td>\n",
       "    </tr>\n",
       "    <tr>\n",
       "      <th>4</th>\n",
       "      <td>4</td>\n",
       "      <td>2013-01-01</td>\n",
       "      <td>IN-2013-47960</td>\n",
       "      <td>JE-15715</td>\n",
       "      <td>Joe Elijah</td>\n",
       "      <td>Consumer</td>\n",
       "      <td>Tianjin</td>\n",
       "      <td>APAC</td>\n",
       "      <td>North Asia</td>\n",
       "      <td>Furniture</td>\n",
       "      <td>Bookcases</td>\n",
       "      <td>Sauder Floating Shelf Set, Traditional</td>\n",
       "      <td>1362.060</td>\n",
       "      <td>7</td>\n",
       "      <td>0.0</td>\n",
       "      <td>340.410</td>\n",
       "    </tr>\n",
       "  </tbody>\n",
       "</table>\n",
       "</div>"
      ],
      "text/plain": [
       "   Unnamed: 0  Order Date       Order ID Customer ID    Customer Name  \\\n",
       "0           0  2013-01-01  ID-2013-37383    MY-18295  Muhammed Yedwab   \n",
       "1           1  2013-01-01  IN-2013-47960    JE-15715       Joe Elijah   \n",
       "2           2  2013-01-01  ID-2013-37383    MY-18295  Muhammed Yedwab   \n",
       "3           3  2013-01-01  IN-2013-47960    JE-15715       Joe Elijah   \n",
       "4           4  2013-01-01  IN-2013-47960    JE-15715       Joe Elijah   \n",
       "\n",
       "     Segment     City Market      Region    Category Sub-Category  \\\n",
       "0  Corporate   Albury   APAC     Oceania  Technology      Copiers   \n",
       "1   Consumer  Tianjin   APAC  North Asia   Furniture    Bookcases   \n",
       "2  Corporate   Albury   APAC     Oceania  Technology  Accessories   \n",
       "3   Consumer  Tianjin   APAC  North Asia   Furniture    Bookcases   \n",
       "4   Consumer  Tianjin   APAC  North Asia   Furniture    Bookcases   \n",
       "\n",
       "                             Product Name     Sales  Quantity  Discount  \\\n",
       "0             Canon Copy Machine, Digital  1649.214         7       0.1   \n",
       "1        Sauder Floating Shelf Set, Metal  1358.280         7       0.0   \n",
       "2         Logitech Memory Card, Erganomic   728.568         8       0.1   \n",
       "3        Dania Library with Doors, Mobile  2189.520         6       0.0   \n",
       "4  Sauder Floating Shelf Set, Traditional  1362.060         7       0.0   \n",
       "\n",
       "    Profit  \n",
       "0   36.624  \n",
       "1  203.700  \n",
       "2  -32.472  \n",
       "3  372.060  \n",
       "4  340.410  "
      ]
     },
     "execution_count": 2,
     "metadata": {},
     "output_type": "execute_result"
    }
   ],
   "source": [
    "# Load the sales data here\n",
    "\n",
    "df = pd.read_csv(\"sales_data.csv\")\n",
    "df.head()"
   ]
  },
  {
   "cell_type": "markdown",
   "metadata": {},
   "source": [
    "### 1.i. Average sales and profit per market"
   ]
  },
  {
   "cell_type": "code",
   "execution_count": 3,
   "metadata": {},
   "outputs": [
    {
     "data": {
      "text/plain": [
       "Sales     246.811106\n",
       "Profit     29.490197\n",
       "dtype: float64"
      ]
     },
     "execution_count": 3,
     "metadata": {},
     "output_type": "execute_result"
    }
   ],
   "source": [
    "sales_profit = df[[\"Sales\", \"Profit\", \"Market\"]]\n",
    "sales_profit.mean()"
   ]
  },
  {
   "cell_type": "markdown",
   "metadata": {},
   "source": [
    "### 1. ii. A stacked bar chart showing the sales and profit per market"
   ]
  },
  {
   "cell_type": "code",
   "execution_count": 4,
   "metadata": {},
   "outputs": [
    {
     "name": "stdout",
     "output_type": "stream",
     "text": [
      "               Sales        Profit\n",
      "Market                            \n",
      "APAC    974580.85590  123103.12590\n",
      "Africa  229068.79200   26687.11200\n",
      "Canada   19161.15000    5129.46000\n",
      "EMEA    204640.68300   10598.04300\n",
      "EU      761680.36500   98275.18500\n",
      "LATAM   608140.77348   61415.37348\n",
      "US      608473.83000   81726.93080\n"
     ]
    }
   ],
   "source": [
    "ave_sales_n_profit = sales_profit.groupby(\"Market\")[[\"Sales\", \"Profit\"]].sum()\n",
    "print(ave_sales_n_profit)"
   ]
  },
  {
   "cell_type": "code",
   "execution_count": 5,
   "metadata": {},
   "outputs": [
    {
     "data": {
      "text/plain": [
       "Sales     486535.207054\n",
       "Profit     58133.604311\n",
       "dtype: float64"
      ]
     },
     "execution_count": 5,
     "metadata": {},
     "output_type": "execute_result"
    }
   ],
   "source": [
    "ave_sales_n_profit.mean()"
   ]
  },
  {
   "cell_type": "code",
   "execution_count": 6,
   "metadata": {},
   "outputs": [
    {
     "data": {
      "image/png": "[encoded data removed]",
      "text/plain": [
       "<Figure size 864x504 with 1 Axes>"
      ]
     },
     "metadata": {
      "needs_background": "light"
     },
     "output_type": "display_data"
    }
   ],
   "source": [
    "# Plot stacked bar chart\n",
    "ave_sales_n_profit.plot(kind=\"bar\", stacked=True, title=\"Sales and Profits per market\", figsize=(12,7))\n",
    "\n",
    "# Rotate tick label\n",
    "plt.xticks(rotation='horizontal')\n",
    "\n",
    "# Show\n",
    "plt.show()"
   ]
  },
  {
   "cell_type": "markdown",
   "metadata": {},
   "source": [
    "### 1. iii. Market with more sales on the average."
   ]
  },
  {
   "cell_type": "markdown",
   "metadata": {},
   "source": [
    "According to the graph above the APAC Market brings more sales on the average."
   ]
  },
  {
   "cell_type": "markdown",
   "metadata": {},
   "source": [
    "### 2.i. Best 10 performing products with regards to sales in 2013"
   ]
  },
  {
   "cell_type": "code",
   "execution_count": 7,
   "metadata": {},
   "outputs": [],
   "source": [
    "products_perf = df[[\"Product Name\", \"Sales\"]]"
   ]
  },
  {
   "cell_type": "code",
   "execution_count": 8,
   "metadata": {},
   "outputs": [
    {
     "data": {
      "text/html": [
       "<div>\n",
       "<style scoped>\n",
       "    .dataframe tbody tr th:only-of-type {\n",
       "        vertical-align: middle;\n",
       "    }\n",
       "\n",
       "    .dataframe tbody tr th {\n",
       "        vertical-align: top;\n",
       "    }\n",
       "\n",
       "    .dataframe thead th {\n",
       "        text-align: right;\n",
       "    }\n",
       "</style>\n",
       "<table border=\"1\" class=\"dataframe\">\n",
       "  <thead>\n",
       "    <tr style=\"text-align: right;\">\n",
       "      <th></th>\n",
       "      <th>Product Name</th>\n",
       "      <th>Sales</th>\n",
       "    </tr>\n",
       "  </thead>\n",
       "  <tbody>\n",
       "    <tr>\n",
       "      <th>1103</th>\n",
       "      <td>Canon imageCLASS 2200 Advanced Copier</td>\n",
       "      <td>17499.950</td>\n",
       "    </tr>\n",
       "    <tr>\n",
       "      <th>8096</th>\n",
       "      <td>GBC Ibimaster 500 Manual ProClick Binding System</td>\n",
       "      <td>9892.740</td>\n",
       "    </tr>\n",
       "    <tr>\n",
       "      <th>7308</th>\n",
       "      <td>3D Systems Cube Printer, 2nd Generation, Magenta</td>\n",
       "      <td>9099.930</td>\n",
       "    </tr>\n",
       "    <tr>\n",
       "      <th>414</th>\n",
       "      <td>HP Designjet T520 Inkjet Large Format Printer ...</td>\n",
       "      <td>8749.950</td>\n",
       "    </tr>\n",
       "    <tr>\n",
       "      <th>10488</th>\n",
       "      <td>Canon imageCLASS 2200 Advanced Copier</td>\n",
       "      <td>8399.976</td>\n",
       "    </tr>\n",
       "    <tr>\n",
       "      <th>7234</th>\n",
       "      <td>Motorola Smart Phone, Full Size</td>\n",
       "      <td>6439.800</td>\n",
       "    </tr>\n",
       "    <tr>\n",
       "      <th>5018</th>\n",
       "      <td>Apple Smart Phone, with Caller ID</td>\n",
       "      <td>5751.540</td>\n",
       "    </tr>\n",
       "    <tr>\n",
       "      <th>1362</th>\n",
       "      <td>Samsung Smart Phone, VoIP</td>\n",
       "      <td>5726.160</td>\n",
       "    </tr>\n",
       "    <tr>\n",
       "      <th>9151</th>\n",
       "      <td>Barricks Conference Table, Fully Assembled</td>\n",
       "      <td>5451.300</td>\n",
       "    </tr>\n",
       "    <tr>\n",
       "      <th>2037</th>\n",
       "      <td>Hewlett Packard LaserJet 3310 Copier</td>\n",
       "      <td>5399.910</td>\n",
       "    </tr>\n",
       "  </tbody>\n",
       "</table>\n",
       "</div>"
      ],
      "text/plain": [
       "                                            Product Name      Sales\n",
       "1103               Canon imageCLASS 2200 Advanced Copier  17499.950\n",
       "8096    GBC Ibimaster 500 Manual ProClick Binding System   9892.740\n",
       "7308    3D Systems Cube Printer, 2nd Generation, Magenta   9099.930\n",
       "414    HP Designjet T520 Inkjet Large Format Printer ...   8749.950\n",
       "10488              Canon imageCLASS 2200 Advanced Copier   8399.976\n",
       "7234                     Motorola Smart Phone, Full Size   6439.800\n",
       "5018                   Apple Smart Phone, with Caller ID   5751.540\n",
       "1362                           Samsung Smart Phone, VoIP   5726.160\n",
       "9151          Barricks Conference Table, Fully Assembled   5451.300\n",
       "2037                Hewlett Packard LaserJet 3310 Copier   5399.910"
      ]
     },
     "execution_count": 8,
     "metadata": {},
     "output_type": "execute_result"
    }
   ],
   "source": [
    "products_perf.nlargest(n=10, columns=[\"Sales\"])"
   ]
  },
  {
   "cell_type": "markdown",
   "metadata": {},
   "source": [
    "### 2. ii.  Least 10 performing products with regards to sales 2013"
   ]
  },
  {
   "cell_type": "code",
   "execution_count": 9,
   "metadata": {},
   "outputs": [
    {
     "data": {
      "text/html": [
       "<div>\n",
       "<style scoped>\n",
       "    .dataframe tbody tr th:only-of-type {\n",
       "        vertical-align: middle;\n",
       "    }\n",
       "\n",
       "    .dataframe tbody tr th {\n",
       "        vertical-align: top;\n",
       "    }\n",
       "\n",
       "    .dataframe thead th {\n",
       "        text-align: right;\n",
       "    }\n",
       "</style>\n",
       "<table border=\"1\" class=\"dataframe\">\n",
       "  <thead>\n",
       "    <tr style=\"text-align: right;\">\n",
       "      <th></th>\n",
       "      <th>Product Name</th>\n",
       "      <th>Sales</th>\n",
       "    </tr>\n",
       "  </thead>\n",
       "  <tbody>\n",
       "    <tr>\n",
       "      <th>9724</th>\n",
       "      <td>Avery Durable Slant Ring Binders With Label Ho...</td>\n",
       "      <td>0.836</td>\n",
       "    </tr>\n",
       "    <tr>\n",
       "      <th>3077</th>\n",
       "      <td>Avery Hole Reinforcements, Clear</td>\n",
       "      <td>1.161</td>\n",
       "    </tr>\n",
       "    <tr>\n",
       "      <th>9062</th>\n",
       "      <td>Avery Hidden Tab Dividers for Binding Systems</td>\n",
       "      <td>1.192</td>\n",
       "    </tr>\n",
       "    <tr>\n",
       "      <th>5997</th>\n",
       "      <td>Insertable Tab Indexes For Data Binders</td>\n",
       "      <td>1.272</td>\n",
       "    </tr>\n",
       "    <tr>\n",
       "      <th>1558</th>\n",
       "      <td>Avery Hole Reinforcements, Economy</td>\n",
       "      <td>1.323</td>\n",
       "    </tr>\n",
       "    <tr>\n",
       "      <th>5075</th>\n",
       "      <td>Computer Printout Index Tabs</td>\n",
       "      <td>1.344</td>\n",
       "    </tr>\n",
       "    <tr>\n",
       "      <th>9645</th>\n",
       "      <td>Prang Dustless Chalk Sticks</td>\n",
       "      <td>1.344</td>\n",
       "    </tr>\n",
       "    <tr>\n",
       "      <th>4307</th>\n",
       "      <td>Newell 310</td>\n",
       "      <td>1.408</td>\n",
       "    </tr>\n",
       "    <tr>\n",
       "      <th>5483</th>\n",
       "      <td>Cardinal Hole Reinforcements, Clear</td>\n",
       "      <td>1.440</td>\n",
       "    </tr>\n",
       "    <tr>\n",
       "      <th>11998</th>\n",
       "      <td>OIC #2 Pencils, Medium Soft</td>\n",
       "      <td>1.504</td>\n",
       "    </tr>\n",
       "  </tbody>\n",
       "</table>\n",
       "</div>"
      ],
      "text/plain": [
       "                                            Product Name  Sales\n",
       "9724   Avery Durable Slant Ring Binders With Label Ho...  0.836\n",
       "3077                    Avery Hole Reinforcements, Clear  1.161\n",
       "9062       Avery Hidden Tab Dividers for Binding Systems  1.192\n",
       "5997             Insertable Tab Indexes For Data Binders  1.272\n",
       "1558                  Avery Hole Reinforcements, Economy  1.323\n",
       "5075                        Computer Printout Index Tabs  1.344\n",
       "9645                         Prang Dustless Chalk Sticks  1.344\n",
       "4307                                          Newell 310  1.408\n",
       "5483                 Cardinal Hole Reinforcements, Clear  1.440\n",
       "11998                        OIC #2 Pencils, Medium Soft  1.504"
      ]
     },
     "execution_count": 9,
     "metadata": {},
     "output_type": "execute_result"
    }
   ],
   "source": [
    "products_perf.nsmallest(n=10, columns=[\"Sales\"])"
   ]
  },
  {
   "cell_type": "markdown",
   "metadata": {},
   "source": [
    "### 3. i. Extract the days and months from the Order Date and add them to the data frame with the name \"Days\" and \"Months\" respectively."
   ]
  },
  {
   "cell_type": "code",
   "execution_count": 10,
   "metadata": {},
   "outputs": [
    {
     "data": {
      "text/html": [
       "<div>\n",
       "<style scoped>\n",
       "    .dataframe tbody tr th:only-of-type {\n",
       "        vertical-align: middle;\n",
       "    }\n",
       "\n",
       "    .dataframe tbody tr th {\n",
       "        vertical-align: top;\n",
       "    }\n",
       "\n",
       "    .dataframe thead th {\n",
       "        text-align: right;\n",
       "    }\n",
       "</style>\n",
       "<table border=\"1\" class=\"dataframe\">\n",
       "  <thead>\n",
       "    <tr style=\"text-align: right;\">\n",
       "      <th></th>\n",
       "      <th>Unnamed: 0</th>\n",
       "      <th>Order Date</th>\n",
       "      <th>Order ID</th>\n",
       "      <th>Customer ID</th>\n",
       "      <th>Customer Name</th>\n",
       "      <th>Segment</th>\n",
       "      <th>City</th>\n",
       "      <th>Market</th>\n",
       "      <th>Region</th>\n",
       "      <th>Category</th>\n",
       "      <th>Sub-Category</th>\n",
       "      <th>Product Name</th>\n",
       "      <th>Sales</th>\n",
       "      <th>Quantity</th>\n",
       "      <th>Discount</th>\n",
       "      <th>Profit</th>\n",
       "      <th>Days</th>\n",
       "    </tr>\n",
       "  </thead>\n",
       "  <tbody>\n",
       "    <tr>\n",
       "      <th>0</th>\n",
       "      <td>0</td>\n",
       "      <td>2013-01-01</td>\n",
       "      <td>ID-2013-37383</td>\n",
       "      <td>MY-18295</td>\n",
       "      <td>Muhammed Yedwab</td>\n",
       "      <td>Corporate</td>\n",
       "      <td>Albury</td>\n",
       "      <td>APAC</td>\n",
       "      <td>Oceania</td>\n",
       "      <td>Technology</td>\n",
       "      <td>Copiers</td>\n",
       "      <td>Canon Copy Machine, Digital</td>\n",
       "      <td>1649.214</td>\n",
       "      <td>7</td>\n",
       "      <td>0.1</td>\n",
       "      <td>36.624</td>\n",
       "      <td>1</td>\n",
       "    </tr>\n",
       "    <tr>\n",
       "      <th>1</th>\n",
       "      <td>1</td>\n",
       "      <td>2013-01-01</td>\n",
       "      <td>IN-2013-47960</td>\n",
       "      <td>JE-15715</td>\n",
       "      <td>Joe Elijah</td>\n",
       "      <td>Consumer</td>\n",
       "      <td>Tianjin</td>\n",
       "      <td>APAC</td>\n",
       "      <td>North Asia</td>\n",
       "      <td>Furniture</td>\n",
       "      <td>Bookcases</td>\n",
       "      <td>Sauder Floating Shelf Set, Metal</td>\n",
       "      <td>1358.280</td>\n",
       "      <td>7</td>\n",
       "      <td>0.0</td>\n",
       "      <td>203.700</td>\n",
       "      <td>1</td>\n",
       "    </tr>\n",
       "    <tr>\n",
       "      <th>2</th>\n",
       "      <td>2</td>\n",
       "      <td>2013-01-01</td>\n",
       "      <td>ID-2013-37383</td>\n",
       "      <td>MY-18295</td>\n",
       "      <td>Muhammed Yedwab</td>\n",
       "      <td>Corporate</td>\n",
       "      <td>Albury</td>\n",
       "      <td>APAC</td>\n",
       "      <td>Oceania</td>\n",
       "      <td>Technology</td>\n",
       "      <td>Accessories</td>\n",
       "      <td>Logitech Memory Card, Erganomic</td>\n",
       "      <td>728.568</td>\n",
       "      <td>8</td>\n",
       "      <td>0.1</td>\n",
       "      <td>-32.472</td>\n",
       "      <td>1</td>\n",
       "    </tr>\n",
       "    <tr>\n",
       "      <th>3</th>\n",
       "      <td>3</td>\n",
       "      <td>2013-01-01</td>\n",
       "      <td>IN-2013-47960</td>\n",
       "      <td>JE-15715</td>\n",
       "      <td>Joe Elijah</td>\n",
       "      <td>Consumer</td>\n",
       "      <td>Tianjin</td>\n",
       "      <td>APAC</td>\n",
       "      <td>North Asia</td>\n",
       "      <td>Furniture</td>\n",
       "      <td>Bookcases</td>\n",
       "      <td>Dania Library with Doors, Mobile</td>\n",
       "      <td>2189.520</td>\n",
       "      <td>6</td>\n",
       "      <td>0.0</td>\n",
       "      <td>372.060</td>\n",
       "      <td>1</td>\n",
       "    </tr>\n",
       "    <tr>\n",
       "      <th>4</th>\n",
       "      <td>4</td>\n",
       "      <td>2013-01-01</td>\n",
       "      <td>IN-2013-47960</td>\n",
       "      <td>JE-15715</td>\n",
       "      <td>Joe Elijah</td>\n",
       "      <td>Consumer</td>\n",
       "      <td>Tianjin</td>\n",
       "      <td>APAC</td>\n",
       "      <td>North Asia</td>\n",
       "      <td>Furniture</td>\n",
       "      <td>Bookcases</td>\n",
       "      <td>Sauder Floating Shelf Set, Traditional</td>\n",
       "      <td>1362.060</td>\n",
       "      <td>7</td>\n",
       "      <td>0.0</td>\n",
       "      <td>340.410</td>\n",
       "      <td>1</td>\n",
       "    </tr>\n",
       "  </tbody>\n",
       "</table>\n",
       "</div>"
      ],
      "text/plain": [
       "   Unnamed: 0  Order Date       Order ID Customer ID    Customer Name  \\\n",
       "0           0  2013-01-01  ID-2013-37383    MY-18295  Muhammed Yedwab   \n",
       "1           1  2013-01-01  IN-2013-47960    JE-15715       Joe Elijah   \n",
       "2           2  2013-01-01  ID-2013-37383    MY-18295  Muhammed Yedwab   \n",
       "3           3  2013-01-01  IN-2013-47960    JE-15715       Joe Elijah   \n",
       "4           4  2013-01-01  IN-2013-47960    JE-15715       Joe Elijah   \n",
       "\n",
       "     Segment     City Market      Region    Category Sub-Category  \\\n",
       "0  Corporate   Albury   APAC     Oceania  Technology      Copiers   \n",
       "1   Consumer  Tianjin   APAC  North Asia   Furniture    Bookcases   \n",
       "2  Corporate   Albury   APAC     Oceania  Technology  Accessories   \n",
       "3   Consumer  Tianjin   APAC  North Asia   Furniture    Bookcases   \n",
       "4   Consumer  Tianjin   APAC  North Asia   Furniture    Bookcases   \n",
       "\n",
       "                             Product Name     Sales  Quantity  Discount  \\\n",
       "0             Canon Copy Machine, Digital  1649.214         7       0.1   \n",
       "1        Sauder Floating Shelf Set, Metal  1358.280         7       0.0   \n",
       "2         Logitech Memory Card, Erganomic   728.568         8       0.1   \n",
       "3        Dania Library with Doors, Mobile  2189.520         6       0.0   \n",
       "4  Sauder Floating Shelf Set, Traditional  1362.060         7       0.0   \n",
       "\n",
       "    Profit  Days  \n",
       "0   36.624     1  \n",
       "1  203.700     1  \n",
       "2  -32.472     1  \n",
       "3  372.060     1  \n",
       "4  340.410     1  "
      ]
     },
     "execution_count": 10,
     "metadata": {},
     "output_type": "execute_result"
    }
   ],
   "source": [
    "df[\"Days\"] = pd.DatetimeIndex(df[\"Order Date\"]).day\n",
    "df.head()"
   ]
  },
  {
   "cell_type": "code",
   "execution_count": 11,
   "metadata": {},
   "outputs": [
    {
     "data": {
      "text/html": [
       "<div>\n",
       "<style scoped>\n",
       "    .dataframe tbody tr th:only-of-type {\n",
       "        vertical-align: middle;\n",
       "    }\n",
       "\n",
       "    .dataframe tbody tr th {\n",
       "        vertical-align: top;\n",
       "    }\n",
       "\n",
       "    .dataframe thead th {\n",
       "        text-align: right;\n",
       "    }\n",
       "</style>\n",
       "<table border=\"1\" class=\"dataframe\">\n",
       "  <thead>\n",
       "    <tr style=\"text-align: right;\">\n",
       "      <th></th>\n",
       "      <th>Unnamed: 0</th>\n",
       "      <th>Order Date</th>\n",
       "      <th>Order ID</th>\n",
       "      <th>Customer ID</th>\n",
       "      <th>Customer Name</th>\n",
       "      <th>Segment</th>\n",
       "      <th>City</th>\n",
       "      <th>Market</th>\n",
       "      <th>Region</th>\n",
       "      <th>Category</th>\n",
       "      <th>Sub-Category</th>\n",
       "      <th>Product Name</th>\n",
       "      <th>Sales</th>\n",
       "      <th>Quantity</th>\n",
       "      <th>Discount</th>\n",
       "      <th>Profit</th>\n",
       "      <th>Days</th>\n",
       "      <th>Months</th>\n",
       "    </tr>\n",
       "  </thead>\n",
       "  <tbody>\n",
       "    <tr>\n",
       "      <th>0</th>\n",
       "      <td>0</td>\n",
       "      <td>2013-01-01</td>\n",
       "      <td>ID-2013-37383</td>\n",
       "      <td>MY-18295</td>\n",
       "      <td>Muhammed Yedwab</td>\n",
       "      <td>Corporate</td>\n",
       "      <td>Albury</td>\n",
       "      <td>APAC</td>\n",
       "      <td>Oceania</td>\n",
       "      <td>Technology</td>\n",
       "      <td>Copiers</td>\n",
       "      <td>Canon Copy Machine, Digital</td>\n",
       "      <td>1649.214</td>\n",
       "      <td>7</td>\n",
       "      <td>0.1</td>\n",
       "      <td>36.624</td>\n",
       "      <td>1</td>\n",
       "      <td>1</td>\n",
       "    </tr>\n",
       "    <tr>\n",
       "      <th>1</th>\n",
       "      <td>1</td>\n",
       "      <td>2013-01-01</td>\n",
       "      <td>IN-2013-47960</td>\n",
       "      <td>JE-15715</td>\n",
       "      <td>Joe Elijah</td>\n",
       "      <td>Consumer</td>\n",
       "      <td>Tianjin</td>\n",
       "      <td>APAC</td>\n",
       "      <td>North Asia</td>\n",
       "      <td>Furniture</td>\n",
       "      <td>Bookcases</td>\n",
       "      <td>Sauder Floating Shelf Set, Metal</td>\n",
       "      <td>1358.280</td>\n",
       "      <td>7</td>\n",
       "      <td>0.0</td>\n",
       "      <td>203.700</td>\n",
       "      <td>1</td>\n",
       "      <td>1</td>\n",
       "    </tr>\n",
       "    <tr>\n",
       "      <th>2</th>\n",
       "      <td>2</td>\n",
       "      <td>2013-01-01</td>\n",
       "      <td>ID-2013-37383</td>\n",
       "      <td>MY-18295</td>\n",
       "      <td>Muhammed Yedwab</td>\n",
       "      <td>Corporate</td>\n",
       "      <td>Albury</td>\n",
       "      <td>APAC</td>\n",
       "      <td>Oceania</td>\n",
       "      <td>Technology</td>\n",
       "      <td>Accessories</td>\n",
       "      <td>Logitech Memory Card, Erganomic</td>\n",
       "      <td>728.568</td>\n",
       "      <td>8</td>\n",
       "      <td>0.1</td>\n",
       "      <td>-32.472</td>\n",
       "      <td>1</td>\n",
       "      <td>1</td>\n",
       "    </tr>\n",
       "    <tr>\n",
       "      <th>3</th>\n",
       "      <td>3</td>\n",
       "      <td>2013-01-01</td>\n",
       "      <td>IN-2013-47960</td>\n",
       "      <td>JE-15715</td>\n",
       "      <td>Joe Elijah</td>\n",
       "      <td>Consumer</td>\n",
       "      <td>Tianjin</td>\n",
       "      <td>APAC</td>\n",
       "      <td>North Asia</td>\n",
       "      <td>Furniture</td>\n",
       "      <td>Bookcases</td>\n",
       "      <td>Dania Library with Doors, Mobile</td>\n",
       "      <td>2189.520</td>\n",
       "      <td>6</td>\n",
       "      <td>0.0</td>\n",
       "      <td>372.060</td>\n",
       "      <td>1</td>\n",
       "      <td>1</td>\n",
       "    </tr>\n",
       "    <tr>\n",
       "      <th>4</th>\n",
       "      <td>4</td>\n",
       "      <td>2013-01-01</td>\n",
       "      <td>IN-2013-47960</td>\n",
       "      <td>JE-15715</td>\n",
       "      <td>Joe Elijah</td>\n",
       "      <td>Consumer</td>\n",
       "      <td>Tianjin</td>\n",
       "      <td>APAC</td>\n",
       "      <td>North Asia</td>\n",
       "      <td>Furniture</td>\n",
       "      <td>Bookcases</td>\n",
       "      <td>Sauder Floating Shelf Set, Traditional</td>\n",
       "      <td>1362.060</td>\n",
       "      <td>7</td>\n",
       "      <td>0.0</td>\n",
       "      <td>340.410</td>\n",
       "      <td>1</td>\n",
       "      <td>1</td>\n",
       "    </tr>\n",
       "  </tbody>\n",
       "</table>\n",
       "</div>"
      ],
      "text/plain": [
       "   Unnamed: 0  Order Date       Order ID Customer ID    Customer Name  \\\n",
       "0           0  2013-01-01  ID-2013-37383    MY-18295  Muhammed Yedwab   \n",
       "1           1  2013-01-01  IN-2013-47960    JE-15715       Joe Elijah   \n",
       "2           2  2013-01-01  ID-2013-37383    MY-18295  Muhammed Yedwab   \n",
       "3           3  2013-01-01  IN-2013-47960    JE-15715       Joe Elijah   \n",
       "4           4  2013-01-01  IN-2013-47960    JE-15715       Joe Elijah   \n",
       "\n",
       "     Segment     City Market      Region    Category Sub-Category  \\\n",
       "0  Corporate   Albury   APAC     Oceania  Technology      Copiers   \n",
       "1   Consumer  Tianjin   APAC  North Asia   Furniture    Bookcases   \n",
       "2  Corporate   Albury   APAC     Oceania  Technology  Accessories   \n",
       "3   Consumer  Tianjin   APAC  North Asia   Furniture    Bookcases   \n",
       "4   Consumer  Tianjin   APAC  North Asia   Furniture    Bookcases   \n",
       "\n",
       "                             Product Name     Sales  Quantity  Discount  \\\n",
       "0             Canon Copy Machine, Digital  1649.214         7       0.1   \n",
       "1        Sauder Floating Shelf Set, Metal  1358.280         7       0.0   \n",
       "2         Logitech Memory Card, Erganomic   728.568         8       0.1   \n",
       "3        Dania Library with Doors, Mobile  2189.520         6       0.0   \n",
       "4  Sauder Floating Shelf Set, Traditional  1362.060         7       0.0   \n",
       "\n",
       "    Profit  Days  Months  \n",
       "0   36.624     1       1  \n",
       "1  203.700     1       1  \n",
       "2  -32.472     1       1  \n",
       "3  372.060     1       1  \n",
       "4  340.410     1       1  "
      ]
     },
     "execution_count": 11,
     "metadata": {},
     "output_type": "execute_result"
    }
   ],
   "source": [
    "df[\"Months\"] = pd.DatetimeIndex(df[\"Order Date\"]).month\n",
    "df.head()"
   ]
  },
  {
   "cell_type": "markdown",
   "metadata": {},
   "source": [
    "### 3. ii.  Trend of profit from January to December with a line plot."
   ]
  },
  {
   "cell_type": "code",
   "execution_count": 12,
   "metadata": {},
   "outputs": [
    {
     "data": {
      "image/png": "[encoded data removed]",
      "text/plain": [
       "<Figure size 864x504 with 1 Axes>"
      ]
     },
     "metadata": {
      "needs_background": "light"
     },
     "output_type": "display_data"
    }
   ],
   "source": [
    "# Get the total profit from January to December\n",
    "profit_by_month = df.groupby(\"Months\")[\"Profit\"].sum()\n",
    "\n",
    "# Create a line plot of profit by date\n",
    "profit_by_month.plot(x=\"Months\", y=\"Profit\", kind=\"line\", marker='o', figsize=(12,7))\n",
    "plt.title('Profit from January to December', fontsize=14)\n",
    "plt.xlabel(\"Months\", fontsize=14)\n",
    "plt.ylabel(\"Profit\", fontsize=14)\n",
    "plt.grid(True)\n",
    "\n",
    "# Show the plot\n",
    "plt.show()"
   ]
  },
  {
   "cell_type": "markdown",
   "metadata": {},
   "source": [
    "### 3. iii. Month of profit"
   ]
  },
  {
   "cell_type": "markdown",
   "metadata": {},
   "source": [
    "According to the line graph above, the company made its most profit in the month of November."
   ]
  },
  {
   "cell_type": "markdown",
   "metadata": {},
   "source": [
    "### 5 most sold product in November"
   ]
  },
  {
   "cell_type": "code",
   "execution_count": 13,
   "metadata": {},
   "outputs": [
    {
     "data": {
      "text/html": [
       "<div>\n",
       "<style scoped>\n",
       "    .dataframe tbody tr th:only-of-type {\n",
       "        vertical-align: middle;\n",
       "    }\n",
       "\n",
       "    .dataframe tbody tr th {\n",
       "        vertical-align: top;\n",
       "    }\n",
       "\n",
       "    .dataframe thead th {\n",
       "        text-align: right;\n",
       "    }\n",
       "</style>\n",
       "<table border=\"1\" class=\"dataframe\">\n",
       "  <thead>\n",
       "    <tr style=\"text-align: right;\">\n",
       "      <th></th>\n",
       "      <th>Product Name</th>\n",
       "      <th>Quantity</th>\n",
       "    </tr>\n",
       "    <tr>\n",
       "      <th>Months</th>\n",
       "      <th></th>\n",
       "      <th></th>\n",
       "    </tr>\n",
       "  </thead>\n",
       "  <tbody>\n",
       "    <tr>\n",
       "      <th>11</th>\n",
       "      <td>Samsung Signal Booster, VoIP</td>\n",
       "      <td>14</td>\n",
       "    </tr>\n",
       "    <tr>\n",
       "      <th>11</th>\n",
       "      <td>BIC Highlighters, Fluorescent</td>\n",
       "      <td>14</td>\n",
       "    </tr>\n",
       "    <tr>\n",
       "      <th>11</th>\n",
       "      <td>Kleencut Shears, Steel</td>\n",
       "      <td>14</td>\n",
       "    </tr>\n",
       "    <tr>\n",
       "      <th>11</th>\n",
       "      <td>Memorex Numeric Keypad, USB</td>\n",
       "      <td>14</td>\n",
       "    </tr>\n",
       "    <tr>\n",
       "      <th>11</th>\n",
       "      <td>Ultra Door Push Plate</td>\n",
       "      <td>14</td>\n",
       "    </tr>\n",
       "  </tbody>\n",
       "</table>\n",
       "</div>"
      ],
      "text/plain": [
       "                         Product Name  Quantity\n",
       "Months                                         \n",
       "11       Samsung Signal Booster, VoIP        14\n",
       "11      BIC Highlighters, Fluorescent        14\n",
       "11             Kleencut Shears, Steel        14\n",
       "11        Memorex Numeric Keypad, USB        14\n",
       "11              Ultra Door Push Plate        14"
      ]
     },
     "execution_count": 13,
     "metadata": {},
     "output_type": "execute_result"
    }
   ],
   "source": [
    "# Set months as the index and sort the index\n",
    "month_profit = df[[\"Product Name\", \"Quantity\", \"Months\"]]\n",
    "month_index = month_profit.set_index(\"Months\").sort_index().loc[11]\n",
    "month_index.nlargest(n=5, columns=[\"Quantity\"])"
   ]
  },
  {
   "cell_type": "markdown",
   "metadata": {},
   "source": [
    "### 3. iv. Days which the company makes high sales on average."
   ]
  },
  {
   "cell_type": "code",
   "execution_count": 14,
   "metadata": {},
   "outputs": [
    {
     "name": "stdout",
     "output_type": "stream",
     "text": [
      "           Sales\n",
      "Days            \n",
      "1     316.403121\n",
      "2     318.411526\n",
      "3     291.859407\n",
      "4     213.276352\n",
      "5     212.703316\n",
      "6     270.487194\n",
      "7     264.379302\n",
      "8     215.077669\n",
      "9     223.629552\n",
      "10    308.192499\n",
      "11    208.422190\n",
      "12    228.981232\n",
      "13    201.898646\n",
      "14    247.979581\n",
      "15    238.873703\n",
      "16    287.188757\n",
      "17    271.615513\n",
      "18    252.714262\n",
      "19    246.303035\n",
      "20    220.862014\n",
      "21    236.366999\n",
      "22    227.907205\n",
      "23    208.919446\n",
      "24    248.923563\n",
      "25    244.850794\n",
      "26    283.981118\n",
      "27    254.233484\n",
      "28    255.834067\n",
      "29    242.991424\n",
      "30    264.281520\n",
      "31    251.382935\n"
     ]
    }
   ],
   "source": [
    "day_sales = df[[\"Sales\", \"Days\"]]\n",
    "ave_sales_in_day = day_sales.groupby(\"Days\")[[\"Sales\"]].mean()\n",
    "print(ave_sales_in_day)"
   ]
  },
  {
   "cell_type": "markdown",
   "metadata": {},
   "source": [
    "As seen above Day 2 are the days in which the company made high sales on average."
   ]
  },
  {
   "cell_type": "markdown",
   "metadata": {},
   "source": [
    "### 4. i. Correlation between sales and discount."
   ]
  },
  {
   "cell_type": "code",
   "execution_count": 15,
   "metadata": {},
   "outputs": [
    {
     "name": "stdout",
     "output_type": "stream",
     "text": [
      "[[ 2.44747304e+05 -8.80274251e+00]\n",
      " [-8.80274251e+00  4.41215388e-02]]\n"
     ]
    }
   ],
   "source": [
    "# calculate covariance matrix\n",
    "covariance = np.cov(df[\"Sales\"], df[\"Discount\"])\n",
    "print(covariance)"
   ]
  },
  {
   "cell_type": "code",
   "execution_count": 16,
   "metadata": {},
   "outputs": [
    {
     "name": "stdout",
     "output_type": "stream",
     "text": [
      "Pearsons correlation: -0.085\n"
     ]
    }
   ],
   "source": [
    "# calculate Pearson's correlation\n",
    "corr, _ = pearsonr(df[\"Sales\"], df[\"Discount\"])\n",
    "print('Pearsons correlation: %.3f' % corr)"
   ]
  },
  {
   "cell_type": "markdown",
   "metadata": {},
   "source": [
    "We can see that the two variables, sales and discount are negatively correlated and that the correlation is -0.085. This suggests a low level of correlation, ie. a value above -0.5."
   ]
  },
  {
   "cell_type": "markdown",
   "metadata": {},
   "source": [
    "### 4. ii. A scatter plot to show the relationship between sales and profit."
   ]
  },
  {
   "cell_type": "code",
   "execution_count": 17,
   "metadata": {},
   "outputs": [
    {
     "data": {
      "image/png": "[encoded data removed]",
      "text/plain": [
       "<Figure size 864x504 with 1 Axes>"
      ]
     },
     "metadata": {
      "needs_background": "light"
     },
     "output_type": "display_data"
    }
   ],
   "source": [
    "# Scatter plot of sales vs. discount\n",
    "df.plot(x=\"Sales\", y=\"Discount\", kind=\"scatter\", title=\"Correlation between sales and discount\", figsize=(12,7))\n",
    "\n",
    "# Show the plot\n",
    "plt.show()"
   ]
  },
  {
   "cell_type": "markdown",
   "metadata": {},
   "source": [
    "### 5. i.  A grouped bar chart showing the total profit for the different product category for each market."
   ]
  },
  {
   "cell_type": "code",
   "execution_count": 18,
   "metadata": {},
   "outputs": [
    {
     "data": {
      "image/png": "[encoded data removed]",
      "text/plain": [
       "<Figure size 864x504 with 1 Axes>"
      ]
     },
     "metadata": {
      "needs_background": "light"
     },
     "output_type": "display_data"
    }
   ],
   "source": [
    "category_profit = df[[\"Category\", \"Market\", \"Profit\"]]\n",
    "category_profit.pivot_table(values=\"Profit\", index=\"Market\", columns=\"Category\").plot(kind=\"bar\", title=\"Grouped Bar Graph\"\n",
    "                                                                                      , figsize=(12,7))\n",
    "# Rotate tick label\n",
    "plt.xticks(rotation='horizontal')\n",
    "plt.show()"
   ]
  },
  {
   "cell_type": "markdown",
   "metadata": {},
   "source": [
    "### 5. ii. Product category which performed well in each market."
   ]
  },
  {
   "cell_type": "markdown",
   "metadata": {},
   "source": [
    "From grouped bar graph above, technology product category performed well in each market except the EMEA Market were Office Supplies outperformed technology and Furniture."
   ]
  },
  {
   "cell_type": "markdown",
   "metadata": {},
   "source": [
    "### 6. i. Customer with highest sales."
   ]
  },
  {
   "cell_type": "code",
   "execution_count": 19,
   "metadata": {},
   "outputs": [
    {
     "data": {
      "text/html": [
       "<div>\n",
       "<style scoped>\n",
       "    .dataframe tbody tr th:only-of-type {\n",
       "        vertical-align: middle;\n",
       "    }\n",
       "\n",
       "    .dataframe tbody tr th {\n",
       "        vertical-align: top;\n",
       "    }\n",
       "\n",
       "    .dataframe thead th {\n",
       "        text-align: right;\n",
       "    }\n",
       "</style>\n",
       "<table border=\"1\" class=\"dataframe\">\n",
       "  <thead>\n",
       "    <tr style=\"text-align: right;\">\n",
       "      <th></th>\n",
       "      <th>Sales</th>\n",
       "    </tr>\n",
       "    <tr>\n",
       "      <th>Customer Name</th>\n",
       "      <th></th>\n",
       "    </tr>\n",
       "  </thead>\n",
       "  <tbody>\n",
       "    <tr>\n",
       "      <th>Tamara Chand</th>\n",
       "      <td>23190.408</td>\n",
       "    </tr>\n",
       "  </tbody>\n",
       "</table>\n",
       "</div>"
      ],
      "text/plain": [
       "                   Sales\n",
       "Customer Name           \n",
       "Tamara Chand   23190.408"
      ]
     },
     "execution_count": 19,
     "metadata": {},
     "output_type": "execute_result"
    }
   ],
   "source": [
    "# Get customers by sales\n",
    "customer_sales = df.groupby(\"Customer Name\")[[\"Sales\"]].sum()\n",
    "\n",
    "# Get customer with most sales\n",
    "customer_sales.nlargest(n=1, columns=[\"Sales\"])"
   ]
  },
  {
   "cell_type": "markdown",
   "metadata": {},
   "source": [
    "Tamara Chand spent the most in the whole year."
   ]
  },
  {
   "cell_type": "markdown",
   "metadata": {},
   "source": [
    "### 6. ii. Most purchased product by customer with highest sales"
   ]
  },
  {
   "cell_type": "code",
   "execution_count": 20,
   "metadata": {},
   "outputs": [
    {
     "data": {
      "text/html": [
       "<div>\n",
       "<style scoped>\n",
       "    .dataframe tbody tr th:only-of-type {\n",
       "        vertical-align: middle;\n",
       "    }\n",
       "\n",
       "    .dataframe tbody tr th {\n",
       "        vertical-align: top;\n",
       "    }\n",
       "\n",
       "    .dataframe thead th {\n",
       "        text-align: right;\n",
       "    }\n",
       "</style>\n",
       "<table border=\"1\" class=\"dataframe\">\n",
       "  <thead>\n",
       "    <tr style=\"text-align: right;\">\n",
       "      <th></th>\n",
       "      <th>Customer Name</th>\n",
       "      <th>Product Name</th>\n",
       "      <th>Quantity</th>\n",
       "      <th>Sales</th>\n",
       "      <th>Months</th>\n",
       "    </tr>\n",
       "  </thead>\n",
       "  <tbody>\n",
       "    <tr>\n",
       "      <th>3409</th>\n",
       "      <td>Tamara Chand</td>\n",
       "      <td>Sanford Markers, Water Color</td>\n",
       "      <td>9</td>\n",
       "      <td>158.58</td>\n",
       "      <td>8</td>\n",
       "    </tr>\n",
       "  </tbody>\n",
       "</table>\n",
       "</div>"
      ],
      "text/plain": [
       "     Customer Name                  Product Name  Quantity   Sales  Months\n",
       "3409  Tamara Chand  Sanford Markers, Water Color         9  158.58       8"
      ]
     },
     "execution_count": 20,
     "metadata": {},
     "output_type": "execute_result"
    }
   ],
   "source": [
    "# Slicing row by columns\n",
    "customer_sales = df[[\"Customer Name\", \"Product Name\", \"Quantity\", \"Sales\", \"Months\"]]\n",
    "\n",
    "# Slicing row by customer name\n",
    "customer_tamara = customer_sales[customer_sales[\"Customer Name\"]==\"Tamara Chand\"]\n",
    "customer_tamara.nlargest(n=1, columns=[\"Quantity\"])"
   ]
  },
  {
   "cell_type": "markdown",
   "metadata": {},
   "source": [
    "Tamara Chand bought Sanford Markers, Water Color the most."
   ]
  },
  {
   "cell_type": "markdown",
   "metadata": {},
   "source": [
    "###  6. iii. Month customer with highest sales spent the most."
   ]
  },
  {
   "cell_type": "code",
   "execution_count": 21,
   "metadata": {},
   "outputs": [
    {
     "data": {
      "text/html": [
       "<div>\n",
       "<style scoped>\n",
       "    .dataframe tbody tr th:only-of-type {\n",
       "        vertical-align: middle;\n",
       "    }\n",
       "\n",
       "    .dataframe tbody tr th {\n",
       "        vertical-align: top;\n",
       "    }\n",
       "\n",
       "    .dataframe thead th {\n",
       "        text-align: right;\n",
       "    }\n",
       "</style>\n",
       "<table border=\"1\" class=\"dataframe\">\n",
       "  <thead>\n",
       "    <tr style=\"text-align: right;\">\n",
       "      <th></th>\n",
       "      <th>Customer Name</th>\n",
       "      <th>Product Name</th>\n",
       "      <th>Quantity</th>\n",
       "      <th>Sales</th>\n",
       "      <th>Months</th>\n",
       "    </tr>\n",
       "  </thead>\n",
       "  <tbody>\n",
       "    <tr>\n",
       "      <th>1103</th>\n",
       "      <td>Tamara Chand</td>\n",
       "      <td>Canon imageCLASS 2200 Advanced Copier</td>\n",
       "      <td>5</td>\n",
       "      <td>17499.95</td>\n",
       "      <td>3</td>\n",
       "    </tr>\n",
       "  </tbody>\n",
       "</table>\n",
       "</div>"
      ],
      "text/plain": [
       "     Customer Name                           Product Name  Quantity     Sales  \\\n",
       "1103  Tamara Chand  Canon imageCLASS 2200 Advanced Copier         5  17499.95   \n",
       "\n",
       "      Months  \n",
       "1103       3  "
      ]
     },
     "execution_count": 21,
     "metadata": {},
     "output_type": "execute_result"
    }
   ],
   "source": [
    "# Slicing row by customer name\n",
    "customer_tamara = customer_sales[customer_sales[\"Customer Name\"]==\"Tamara Chand\"]\n",
    "customer_tamara.nlargest(n=1, columns=[\"Sales\"])"
   ]
  },
  {
   "cell_type": "markdown",
   "metadata": {},
   "source": [
    "Therefore the 3rd month, March, Tamara Chand spent the most."
   ]
  },
  {
   "cell_type": "markdown",
   "metadata": {},
   "source": [
    "### 6. iv. Total sales by the customer with highest sales spent across the year."
   ]
  },
  {
   "cell_type": "code",
   "execution_count": 22,
   "metadata": {},
   "outputs": [
    {
     "data": {
      "text/plain": [
       "23190.408"
      ]
     },
     "execution_count": 22,
     "metadata": {},
     "output_type": "execute_result"
    }
   ],
   "source": [
    "# Total sales of customer\n",
    "tamara_sales = customer_sales[customer_sales[\"Customer Name\"]==\"Tamara Chand\"]\n",
    "tamara_sales[\"Sales\"].sum()"
   ]
  },
  {
   "cell_type": "markdown",
   "metadata": {},
   "source": [
    "Tamara Chand spent the 23190.408 in total across the year."
   ]
  },
  {
   "cell_type": "markdown",
   "metadata": {},
   "source": [
    "### 7. Summary statistics."
   ]
  },
  {
   "cell_type": "markdown",
   "metadata": {},
   "source": [
    "### 7. i. Interquantile range (IQR) of sales and profit."
   ]
  },
  {
   "cell_type": "code",
   "execution_count": 23,
   "metadata": {},
   "outputs": [
    {
     "name": "stdout",
     "output_type": "stream",
     "text": [
      "          Sales  Profit\n",
      "iqr     218.904  36.852\n",
      "median   85.232   9.240\n"
     ]
    }
   ],
   "source": [
    "# A custom IQR function\n",
    "def iqr(column):\n",
    "    return column.quantile(0.75) - column.quantile(0.25)\n",
    "\n",
    "# print IQR of sales and profit\n",
    "print(df[[\"Sales\", \"Profit\"]].agg([iqr, np.median]))"
   ]
  },
  {
   "cell_type": "markdown",
   "metadata": {},
   "source": [
    "### 7. ii. Customer with least sales."
   ]
  },
  {
   "cell_type": "code",
   "execution_count": 24,
   "metadata": {},
   "outputs": [
    {
     "data": {
      "text/html": [
       "<div>\n",
       "<style scoped>\n",
       "    .dataframe tbody tr th:only-of-type {\n",
       "        vertical-align: middle;\n",
       "    }\n",
       "\n",
       "    .dataframe tbody tr th {\n",
       "        vertical-align: top;\n",
       "    }\n",
       "\n",
       "    .dataframe thead th {\n",
       "        text-align: right;\n",
       "    }\n",
       "</style>\n",
       "<table border=\"1\" class=\"dataframe\">\n",
       "  <thead>\n",
       "    <tr style=\"text-align: right;\">\n",
       "      <th></th>\n",
       "      <th>Customer Name</th>\n",
       "      <th>Product Name</th>\n",
       "      <th>Quantity</th>\n",
       "      <th>Sales</th>\n",
       "      <th>Market</th>\n",
       "    </tr>\n",
       "  </thead>\n",
       "  <tbody>\n",
       "    <tr>\n",
       "      <th>9724</th>\n",
       "      <td>Ken Brennan</td>\n",
       "      <td>Avery Durable Slant Ring Binders With Label Ho...</td>\n",
       "      <td>1</td>\n",
       "      <td>0.836</td>\n",
       "      <td>US</td>\n",
       "    </tr>\n",
       "  </tbody>\n",
       "</table>\n",
       "</div>"
      ],
      "text/plain": [
       "     Customer Name                                       Product Name  \\\n",
       "9724   Ken Brennan  Avery Durable Slant Ring Binders With Label Ho...   \n",
       "\n",
       "      Quantity  Sales Market  \n",
       "9724         1  0.836     US  "
      ]
     },
     "execution_count": 24,
     "metadata": {},
     "output_type": "execute_result"
    }
   ],
   "source": [
    "# Slicing row by columns\n",
    "customer_sales = df[[\"Customer Name\", \"Product Name\", \"Quantity\", \"Sales\", \"Market\"]]\n",
    "\n",
    "# Get customer with least sales\n",
    "customer_sales.nsmallest(n=1, columns=[\"Sales\"])"
   ]
  },
  {
   "cell_type": "markdown",
   "metadata": {},
   "source": [
    "Therefore Ken Brennan had the least sales in the year."
   ]
  },
  {
   "cell_type": "markdown",
   "metadata": {},
   "source": [
    "### 7. iii. Market with least sales and profit."
   ]
  },
  {
   "cell_type": "code",
   "execution_count": 25,
   "metadata": {},
   "outputs": [
    {
     "data": {
      "text/html": [
       "<div>\n",
       "<style scoped>\n",
       "    .dataframe tbody tr th:only-of-type {\n",
       "        vertical-align: middle;\n",
       "    }\n",
       "\n",
       "    .dataframe tbody tr th {\n",
       "        vertical-align: top;\n",
       "    }\n",
       "\n",
       "    .dataframe thead th {\n",
       "        text-align: right;\n",
       "    }\n",
       "</style>\n",
       "<table border=\"1\" class=\"dataframe\">\n",
       "  <thead>\n",
       "    <tr style=\"text-align: right;\">\n",
       "      <th></th>\n",
       "      <th>Sales</th>\n",
       "      <th>Profit</th>\n",
       "    </tr>\n",
       "    <tr>\n",
       "      <th>Market</th>\n",
       "      <th></th>\n",
       "      <th></th>\n",
       "    </tr>\n",
       "  </thead>\n",
       "  <tbody>\n",
       "    <tr>\n",
       "      <th>Canada</th>\n",
       "      <td>19161.15000</td>\n",
       "      <td>5129.46000</td>\n",
       "    </tr>\n",
       "    <tr>\n",
       "      <th>EMEA</th>\n",
       "      <td>204640.68300</td>\n",
       "      <td>10598.04300</td>\n",
       "    </tr>\n",
       "    <tr>\n",
       "      <th>Africa</th>\n",
       "      <td>229068.79200</td>\n",
       "      <td>26687.11200</td>\n",
       "    </tr>\n",
       "    <tr>\n",
       "      <th>LATAM</th>\n",
       "      <td>608140.77348</td>\n",
       "      <td>61415.37348</td>\n",
       "    </tr>\n",
       "    <tr>\n",
       "      <th>US</th>\n",
       "      <td>608473.83000</td>\n",
       "      <td>81726.93080</td>\n",
       "    </tr>\n",
       "    <tr>\n",
       "      <th>EU</th>\n",
       "      <td>761680.36500</td>\n",
       "      <td>98275.18500</td>\n",
       "    </tr>\n",
       "    <tr>\n",
       "      <th>APAC</th>\n",
       "      <td>974580.85590</td>\n",
       "      <td>123103.12590</td>\n",
       "    </tr>\n",
       "  </tbody>\n",
       "</table>\n",
       "</div>"
      ],
      "text/plain": [
       "               Sales        Profit\n",
       "Market                            \n",
       "Canada   19161.15000    5129.46000\n",
       "EMEA    204640.68300   10598.04300\n",
       "Africa  229068.79200   26687.11200\n",
       "LATAM   608140.77348   61415.37348\n",
       "US      608473.83000   81726.93080\n",
       "EU      761680.36500   98275.18500\n",
       "APAC    974580.85590  123103.12590"
      ]
     },
     "execution_count": 25,
     "metadata": {},
     "output_type": "execute_result"
    }
   ],
   "source": [
    "low_sales_n_profit = sales_profit.groupby(\"Market\")[[\"Sales\", \"Profit\"]].sum()\n",
    "low_sales_n_profit.nsmallest(n=7, columns=[\"Sales\", \"Profit\"])"
   ]
  },
  {
   "cell_type": "code",
   "execution_count": null,
   "metadata": {},
   "outputs": [],
   "source": []
  }
 ],
 "metadata": {
  "kernelspec": {
   "display_name": "Python 3",
   "language": "python",
   "name": "python3"
  },
  "language_info": {
   "codemirror_mode": {
    "name": "ipython",
    "version": 3
   },
   "file_extension": ".py",
   "mimetype": "text/x-python",
   "name": "python",
   "nbconvert_exporter": "python",
   "pygments_lexer": "ipython3",
   "version": "3.8.8"
  }
 },
 "nbformat": 4,
 "nbformat_minor": 4
}
